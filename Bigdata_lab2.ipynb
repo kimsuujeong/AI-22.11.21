{
  "nbformat": 4,
  "nbformat_minor": 0,
  "metadata": {
    "colab": {
      "provenance": [],
      "authorship_tag": "ABX9TyOOlA8/kVUd8lfaILKuFCuc",
      "include_colab_link": true
    },
    "kernelspec": {
      "name": "python3",
      "display_name": "Python 3"
    },
    "language_info": {
      "name": "python"
    }
  },
  "cells": [
    {
      "cell_type": "markdown",
      "metadata": {
        "id": "view-in-github",
        "colab_type": "text"
      },
      "source": [
        "<a href=\"https://colab.research.google.com/github/kimsuujeong/AI-22.11.21/blob/main/Bigdata_lab2.ipynb\" target=\"_parent\"><img src=\"https://colab.research.google.com/assets/colab-badge.svg\" alt=\"Open In Colab\"/></a>"
      ]
    },
    {
      "cell_type": "code",
      "execution_count": null,
      "metadata": {
        "colab": {
          "base_uri": "https://localhost:8080/",
          "height": 1000
        },
        "id": "Xp0HGcq6L38p",
        "outputId": "763a48a8-ade5-4eca-fc8b-45d3c37d0bcf"
      },
      "outputs": [
        {
          "output_type": "stream",
          "name": "stdout",
          "text": [
            "<class 'pandas.core.frame.DataFrame'>\n",
            "RangeIndex: 541909 entries, 0 to 541908\n",
            "Data columns (total 8 columns):\n",
            " #   Column       Non-Null Count   Dtype         \n",
            "---  ------       --------------   -----         \n",
            " 0   InvoiceNo    541909 non-null  object        \n",
            " 1   StockCode    541909 non-null  object        \n",
            " 2   Description  540455 non-null  object        \n",
            " 3   Quantity     541909 non-null  int64         \n",
            " 4   InvoiceDate  541909 non-null  datetime64[ns]\n",
            " 5   UnitPrice    541909 non-null  float64       \n",
            " 6   CustomerID   406829 non-null  float64       \n",
            " 7   Country      541909 non-null  object        \n",
            "dtypes: datetime64[ns](1), float64(2), int64(1), object(4)\n",
            "memory usage: 33.1+ MB\n",
            "<class 'pandas.core.frame.DataFrame'>\n",
            "Int64Index: 531285 entries, 0 to 541908\n",
            "Data columns (total 8 columns):\n",
            " #   Column       Non-Null Count   Dtype         \n",
            "---  ------       --------------   -----         \n",
            " 0   InvoiceNo    531285 non-null  object        \n",
            " 1   StockCode    531285 non-null  object        \n",
            " 2   Description  530693 non-null  object        \n",
            " 3   Quantity     531285 non-null  int64         \n",
            " 4   InvoiceDate  531285 non-null  datetime64[ns]\n",
            " 5   UnitPrice    531285 non-null  float64       \n",
            " 6   CustomerID   397924 non-null  float64       \n",
            " 7   Country      531285 non-null  object        \n",
            "dtypes: datetime64[ns](1), float64(2), int64(1), object(4)\n",
            "memory usage: 36.5+ MB\n",
            "<class 'pandas.core.frame.DataFrame'>\n",
            "Int64Index: 530104 entries, 0 to 541908\n",
            "Data columns (total 8 columns):\n",
            " #   Column       Non-Null Count   Dtype         \n",
            "---  ------       --------------   -----         \n",
            " 0   InvoiceNo    530104 non-null  object        \n",
            " 1   StockCode    530104 non-null  object        \n",
            " 2   Description  530104 non-null  object        \n",
            " 3   Quantity     530104 non-null  int64         \n",
            " 4   InvoiceDate  530104 non-null  datetime64[ns]\n",
            " 5   UnitPrice    530104 non-null  float64       \n",
            " 6   CustomerID   397884 non-null  float64       \n",
            " 7   Country      530104 non-null  object        \n",
            "dtypes: datetime64[ns](1), float64(2), int64(1), object(4)\n",
            "memory usage: 36.4+ MB\n",
            "<class 'pandas.core.frame.DataFrame'>\n",
            "Int64Index: 397884 entries, 0 to 541908\n",
            "Data columns (total 8 columns):\n",
            " #   Column       Non-Null Count   Dtype         \n",
            "---  ------       --------------   -----         \n",
            " 0   InvoiceNo    397884 non-null  object        \n",
            " 1   StockCode    397884 non-null  object        \n",
            " 2   Description  397884 non-null  object        \n",
            " 3   Quantity     397884 non-null  int64         \n",
            " 4   InvoiceDate  397884 non-null  datetime64[ns]\n",
            " 5   UnitPrice    397884 non-null  float64       \n",
            " 6   CustomerID   397884 non-null  float64       \n",
            " 7   Country      397884 non-null  object        \n",
            "dtypes: datetime64[ns](1), float64(2), int64(1), object(4)\n",
            "memory usage: 27.3+ MB\n",
            "<class 'pandas.core.frame.DataFrame'>\n",
            "Int64Index: 397884 entries, 0 to 541908\n",
            "Data columns (total 8 columns):\n",
            " #   Column       Non-Null Count   Dtype         \n",
            "---  ------       --------------   -----         \n",
            " 0   InvoiceNo    397884 non-null  object        \n",
            " 1   StockCode    397884 non-null  object        \n",
            " 2   Description  397884 non-null  object        \n",
            " 3   Quantity     397884 non-null  int64         \n",
            " 4   InvoiceDate  397884 non-null  datetime64[ns]\n",
            " 5   UnitPrice    397884 non-null  float64       \n",
            " 6   CustomerID   397884 non-null  int64         \n",
            " 7   Country      397884 non-null  object        \n",
            "dtypes: datetime64[ns](1), float64(1), int64(2), object(4)\n",
            "memory usage: 27.3+ MB\n",
            "InvoiceNo      0\n",
            "StockCode      0\n",
            "Description    0\n",
            "Quantity       0\n",
            "InvoiceDate    0\n",
            "UnitPrice      0\n",
            "CustomerID     0\n",
            "Country        0\n",
            "dtype: int64\n",
            "(397884, 8)\n",
            "(392692, 8)\n"
          ]
        },
        {
          "output_type": "display_data",
          "data": {
            "text/plain": [
              "<Figure size 432x288 with 1 Axes>"
            ],
            "image/png": "[encoded data removed]"
          },
          "metadata": {
            "needs_background": "light"
          }
        },
        {
          "output_type": "display_data",
          "data": {
            "text/plain": [
              "<Figure size 432x288 with 1 Axes>"
            ],
            "image/png": "[encoded data removed]"
          },
          "metadata": {
            "needs_background": "light"
          }
        },
        {
          "output_type": "display_data",
          "data": {
            "text/plain": [
              "<Figure size 432x288 with 1 Axes>"
            ],
            "image/png": "[encoded data removed]"
          },
          "metadata": {
            "needs_background": "light"
          }
        }
      ],
      "source": [
        "import pandas as pd\n",
        "import math\n",
        "retail_df= pd.read_excel('Online Retail.xlsx')\n",
        "\n",
        "#####################################################################################\n",
        "########################### 데 이 터 탐 색 및 전 처 리###############################\n",
        "#####################################################################################\n",
        "retail_df.head() # 데이터 프레임의 앞 부분 보여줌\n",
        "retail_df.info() # 데이터 프레임의 크기와 컬럼의 자료형 보임\n",
        "\n",
        "#오류 데이터 정제\n",
        "retail_df = retail_df[retail_df['Quantity']>0]\n",
        "retail_df.info()\n",
        "retail_df = retail_df[retail_df['UnitPrice']>0]\n",
        "retail_df.info()\n",
        "retail_df = retail_df[retail_df['CustomerID'].notnull()]\n",
        "retail_df.info()\n",
        "\n",
        "#'CustomerID' 자료형을 실수형에서 정수형으로 변환\n",
        "retail_df['CustomerID'] = retail_df['CustomerID'].astype(int)\n",
        "retail_df.info()\n",
        "retail_df.head()\n",
        "\n",
        "#Null인 행의 갯수 보여주기\n",
        "print(retail_df.isnull().sum())\n",
        "print(retail_df.shape) # 데이터 프레임의 행과 열\n",
        "\n",
        "#중복 레코드 제거한 후 최종 레코드 수 확인\n",
        "retail_df.drop_duplicates(inplace = True)\n",
        "print(retail_df.shape) #작업 확인용 출력\n",
        "\n",
        "pd.DataFrame([{'Product':len(retail_df['StockCode'].value_counts()),\n",
        "               'Transaction':len(retail_df['InvoiceNo'].value_counts()), 'Customer':len(retail_df['CustomerID']. value_counts())}],\n",
        "             columns = ['Product', 'Transaction', 'Customer'], index = ['counts'])\n",
        "\n",
        "# Country 값의 개수를 계산하여 고객의 국적 빈도 확인\n",
        "retail_df['Country'].value_counts()\n",
        "\n",
        "# 제품 단가UnitPrice와 주문 개수Quantity를 곱하여 주문 금액SaleAmount을 계산하고 컬럼으로 추가\n",
        "retail_df['SaleAmount'] = retail_df['UnitPrice']*retail_df['Quantity']\n",
        "retail_df.head() #작업 확인용 출력\n",
        "\n",
        "# 각 고객의 정보를 추출하기 위해 CustomerID를 기준으로 그룹을 만들고,\n",
        "# 주문 횟수를 계산하기 위해 InvoiceNo의 개수를 구하고,\n",
        "# 주문금액의 총액을 구하고,\n",
        "# 주문일 중에서 가장 최근 날짜를 찾은 후 이를 새로운 데이터프레임 객체에 넣어 생성\n",
        "aggregations = {'InvoiceNo':'count','SaleAmount':'sum','InvoiceDate':'max'}\n",
        "customer_df= retail_df.groupby('CustomerID').agg(aggregations)\n",
        "customer_df.head()\n",
        "customer_df = customer_df.reset_index()\n",
        "customer_df.head() #작업 확인용 출력\n",
        "\n",
        "\n",
        "# customer_df의 컬럼 이름을 변경\n",
        "customer_df = customer_df.rename(columns = {'InvoiceNo':'Freq'})\n",
        "customer_df = customer_df.rename(columns = {'InvoiceDate':'ElapsedDays'})\n",
        "customer_df.head() #작업 확인용 출력\n",
        "\n",
        "# 2011.12. 10 기준으로 구매후 몇일이 지났는지에 대한 계산식 = 기준 날짜 - 마지막 구매일\n",
        "import datetime\n",
        "customer_df['ElapsedDays'] = datetime.datetime(2011,12,10) - customer_df['ElapsedDays']\n",
        "customer_df.head() #작업 확인용 출력\n",
        "\n",
        "# 마지막 구매 후 몇 일이 지났는지 날짜수 환산하여 ElapsedDays 값 구함\n",
        "customer_df['ElapsedDays'] = customer_df['ElapsedDays'].apply(lambda x: x.days+1)\n",
        "customer_df.head() #작업 확인용 출력\n",
        "\n",
        "# customer_df의 3개 컬럼으로 박스플롯 3개를 그림\n",
        "import matplotlib.pyplot as plt\n",
        "import seaborn as sns\n",
        "fig, ax = plt.subplots()\n",
        "ax.boxplot([customer_df['Freq'], customer_df['SaleAmount'], customer_df['ElapsedDays']], sym = 'bo')\n",
        "plt.xticks([1, 2, 3], ['Freq', 'SaleAmount','ElapsedDays'])\n",
        "plt.show()\n",
        "\n",
        "# 컬럼 값에 로그 함수log1p( )를 취한 값을 새 컬럼으로 추가하여 저장\n",
        "import numpy as np\n",
        "customer_df.head()\n",
        "customer_df['Freq_log'] = np.log1p(customer_df['Freq'])\n",
        "customer_df['SaleAmount_log'] = np.log1p(customer_df['SaleAmount'])\n",
        "customer_df['ElapsedDays_log'] = np.log1p(customer_df['ElapsedDays'])\n",
        "customer_df.head() #작업 확인용 출력\n",
        "\n",
        "fig, ax = plt.subplots()\n",
        "ax.boxplot([customer_df['Freq_log'], customer_df['SaleAmount_log'], customer_df['ElapsedDays_log']], sym = 'bo')\n",
        "plt.xticks([1, 2, 3], ['Freq_log', 'SaleAmount_log','ElapsedDays_log'])\n",
        "plt.show()\n",
        "customer_df\n",
        "\n",
        "# 박스플롯을 그림\n",
        "fig, ax = plt.subplots()\n",
        "ax.boxplot([customer_df['Freq_log'], customer_df['SaleAmount_log'], customer_df['ElapsedDays_log']], sym = 'bo')\n",
        "plt.xticks([1, 2, 3], ['Freq_log', 'SaleAmount_log', 'ElapsedDays_log'])\n",
        "plt.show()"
      ]
    },
    {
      "cell_type": "code",
      "source": [],
      "metadata": {
        "id": "7WltuaW_BCp3"
      },
      "execution_count": null,
      "outputs": []
    },
    {
      "cell_type": "code",
      "source": [],
      "metadata": {
        "id": "hKaHkvFIBC62"
      },
      "execution_count": null,
      "outputs": []
    }
  ]
}